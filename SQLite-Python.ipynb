{
 "cells": [
  {
   "cell_type": "markdown",
   "metadata": {},
   "source": [
    "# SQL-komentojen kutsuminen Pythonista"
   ]
  },
  {
   "cell_type": "markdown",
   "source": [
    "Pääkysymys:\n",
    "    Miten hallita SQL-tietokantaa Python-ohjelmasta?\n",
    "\n",
    "Mitä käsitellään?\n",
    "    Python modulia nimelä `sqlite`.\n",
    "\n",
    "Mitä sinun oletetaan tekevän?\n",
    "    Lue ohjeet ja tee tehtävät.\n",
    "\n",
    "Suuntaa antava vaativuusarvio:\n",
    "    Helpohko.\n",
    "\n",
    "Suuntaa antava työläysarvio:\n",
    "    2-3 tuntia.\n",
    "\n",
    "Ohjelmointitehtävät:\n",
    "    Tehtävät ja niiden testit löytyvät omista hakemistoistaan."
   ],
   "metadata": {
    "collapsed": false
   }
  },
  {
   "cell_type": "markdown",
   "source": [
    "## 1. Python kertaus"
   ],
   "metadata": {
    "collapsed": false
   }
  },
  {
   "cell_type": "markdown",
   "metadata": {},
   "source": [
    "Aloitetaan lyhyellä Python-ohjelmoinnin kertauksella.\n",
    "Tarvitset tehtävissä Pythonin perusrakenteiden lisäksi\n",
    "mahdollisuuden avata, lukea ja sulkea tiedostoja.\n",
    "Jos aihepiiri on entuudestaan tuttua, voit siirtyä suoraan\n",
    "lukuun 2.\n",
    "\n",
    "Pythonilla voidaan helposti lukea tietoa tiedostoista, sekä tallentaa niihin tietoa\n",
    "useissa eri tiedostoformaateissa, kuten puhdas tekstitiedosto, `csv`, `xml`, `JSON` jne.\n",
    "Tällä kurssilla hyödynnämme vain tekstitiedostoja (`.txt`)."
   ]
  },
  {
   "cell_type": "markdown",
   "metadata": {},
   "source": [
    "Ennen tiedoston lukua se täytyy avata tiedosto `open()`-funktiolla, joka\n",
    "palauttaa kahvan tiedostoon (esim. muuttuja `file`)."
   ]
  },
  {
   "cell_type": "markdown",
   "metadata": {},
   "source": [
    "```Python\n",
    "file = open(filename, mode)```"
   ]
  },
  {
   "cell_type": "markdown",
   "metadata": {},
   "source": [
    "Funktion parametrina annetaan merkkijonona tiedoston nimi (`filename`),\n",
    "sekä moodi (`mode`), joka kertoo avataanko tiedosto lukemista `'r'` (read) vai\n",
    "kirjoittamista `'w'` (write) varten."
   ]
  },
  {
   "cell_type": "markdown",
   "metadata": {},
   "source": [
    "```Python\n",
    "filename = 'file.txt'\n",
    "file = open(filename, 'r')```"
   ]
  },
  {
   "cell_type": "markdown",
   "metadata": {},
   "source": [
    "Moodin voi jättää pois, jolloin tiedosto avataan lukemista varten.\n",
    "\n",
    "Tiedosto tulee lopuksi sulkea metodikutsulla `file.close()`."
   ]
  },
  {
   "cell_type": "markdown",
   "metadata": {},
   "source": [
    "### Tiedoston lukeminen rivi kerrallaan"
   ]
  },
  {
   "cell_type": "markdown",
   "source": [
    "Tiedostoa voi lukea rivi kerrallaan kutsumalla metodia `readline()`\n",
    "```Python\n",
    "row = file.readline()```"
   ],
   "metadata": {
    "collapsed": false
   }
  },
  {
   "cell_type": "markdown",
   "source": [
    "Koetetaan esimerkkinä lukea tehtävän 2 tiedostoa\n",
    "`suomen_suurimpien_kuntien_asukasluvut.txt`"
   ],
   "metadata": {
    "collapsed": false
   }
  },
  {
   "cell_type": "code",
   "execution_count": 9,
   "metadata": {},
   "outputs": [
    {
     "name": "stdout",
     "output_type": "stream",
     "text": [
      "Suurimpien kuntien väkiluku 31.12.2016. Lähde: Tilastokeskus [1.8.2017], http://www.tilastokeskus.fi/tup/suoluk/suoluk_vaesto.html\n",
      "\n",
      "Helsinki;635181\n",
      "\n",
      "Espoo;274583\n",
      "\n",
      "Tampere;228274\n",
      "\n",
      "Vantaa;219341\n",
      "\n",
      "Oulu;200526\n",
      "\n",
      "Turku;187604\n",
      "\n",
      "Jyväskylä;138850\n",
      "\n",
      "Lahti;119452\n",
      "\n",
      "Kuopio;117740\n",
      "\n",
      "Kouvola;85306\n",
      "\n",
      "Pori;85059\n",
      "\n",
      "Joensuu;75848\n",
      "\n",
      "Lappeenranta;72872\n",
      "\n",
      "Hämeenlinna;67850\n",
      "\n",
      "Vaasa;67620\n",
      "\n",
      "Rovaniemi;62231\n",
      "\n",
      "Seinäjoki;62052\n",
      "\n",
      "Mikkeli;54517\n",
      "\n",
      "Kotka;54187\n",
      "\n",
      "Salo;53546\n",
      "\n",
      "Porvoo;50144\n",
      "\n",
      "Kokkola;47723\n",
      "\n",
      "Lohja;47149\n",
      "\n",
      "Hyvinkää;46596\n",
      "\n",
      "Nurmijärvi;42010\n",
      "\n",
      "Järvenpää;41529\n",
      "\n",
      "Rauma;39614\n",
      "\n",
      "Kirkkonummi;39033\n",
      "\n",
      "Tuusula;38588\n",
      "\n",
      "Kajaani;37521\n",
      "\n",
      "Kerava;35511\n",
      "\n",
      "Savonlinna;35242\n",
      "\n"
     ]
    }
   ],
   "source": [
    "file = open('teht2/suomen_suurimpien_kuntien_asukasluvut.txt','r')\n",
    "for row in file: # luetaan rivi kerrallaan\n",
    "    print(row)\n",
    "file.close()"
   ]
  },
  {
   "cell_type": "markdown",
   "metadata": {},
   "source": [
    "Tiedostosta luettu rivi on merkkijono,\n",
    "jota on usein tarpeen jakaa pienempiin osiin esim. `split()`-metodilla.\n",
    "Parameterinä sille annetaan erotin.\n",
    "Tehtävässä 2 tulee tietueen eri kentät erottaa puolipisteellä.\n",
    "Kokeile muokata em. koodia siten, että se erottaa tiedoston kaksi eri\n",
    "kenttää omiin muuttujiin `nimi` ja `populaatio`. Tulosta sitten nämä\n",
    "muuttujat. Laske myös populaatiot yhteen ja tulosta lopuksi\n",
    "saatu luku (3363299). Huom! tiedoston ensimmäinen rivi, joka on kommentti,\n",
    "tulee jättää huomioimatta. Kopio yllä oleva koodi tähän alle ja muokkaa sitä:"
   ]
  },
  {
   "cell_type": "code",
   "metadata": {
    "pycharm": {
     "name": "#%%\n"
    }
   },
   "source": [],
   "execution_count": 9,
   "outputs": []
  },
  {
   "cell_type": "markdown",
   "metadata": {},
   "source": [
    "## 2. SQL ja Python"
   ]
  },
  {
   "cell_type": "markdown",
   "metadata": {
    "pycharm": {
     "name": "#%% md\n"
    }
   },
   "source": [
    "Kaikissa tehtävissä käytetään alla olevaa tietokantaa, johon on ladattu suuri määrä maailman kaupunkeja ja niiden asukasmääriä ja koordinaatteja. Tietokannassa on vain yksi taulu, jonka tietueet kuvaavat maailman kaupunkeja."
   ]
  },
  {
   "cell_type": "markdown",
   "source": [
    "Ennen tehtävien aloittamista kannattaa tutkia tietokannan tietoja. Missä muodossa kaupunkien ja valtioiden nimet on annettu?"
   ],
   "metadata": {
    "collapsed": false
   }
  },
  {
   "cell_type": "markdown",
   "source": [
    "TABLE kaupungit\n",
    "\n",
    "        id           integer primary key\n",
    "        nimi         text\n",
    "        alue         text\n",
    "        valtio       text\n",
    "        populaatio   integer\n",
    "        lat          real\n",
    "        lon          real"
   ],
   "metadata": {
    "collapsed": false,
    "pycharm": {
     "name": "#%% md\n"
    }
   }
  },
  {
   "cell_type": "markdown",
   "source": [
    "### SQL-komennot Python-ohjelmassa\n",
    "\n",
    "Python-ohjelmista voidaan suorittaa SQLite-tietokannan komentoja lataamalla kirjasto `sqlite3`:"
   ],
   "metadata": {
    "collapsed": false,
    "pycharm": {
     "name": "#%% md\n"
    }
   }
  },
  {
   "cell_type": "code",
   "execution_count": 10,
   "outputs": [],
   "source": [
    "import sqlite3"
   ],
   "metadata": {
    "collapsed": false,
    "pycharm": {
     "name": "#%%\n"
    }
   }
  },
  {
   "cell_type": "markdown",
   "source": [
    "Kanta avataan komennolla `connect`:\n"
   ],
   "metadata": {
    "collapsed": false
   }
  },
  {
   "cell_type": "code",
   "execution_count": 11,
   "outputs": [],
   "source": [
    "conn = sqlite3.connect(\"kaupungit.db\")"
   ],
   "metadata": {
    "collapsed": false,
    "pycharm": {
     "name": "#%%\n"
    }
   }
  },
  {
   "cell_type": "markdown",
   "source": [
    "Lisäksi tarvitaan ns. tietokantakursori, joka tässä yhteydessä antaa tietokannalle komentoja ja\n",
    "vastaanottaa siltä tietoa:"
   ],
   "metadata": {
    "collapsed": false
   }
  },
  {
   "cell_type": "code",
   "execution_count": 12,
   "outputs": [],
   "source": [
    "c = conn.cursor()"
   ],
   "metadata": {
    "collapsed": false,
    "pycharm": {
     "name": "#%%\n"
    }
   }
  },
  {
   "cell_type": "markdown",
   "source": [
    "Nyt voitaisiin suorttaa esimerkiksi seuraavanlainen SQL-komento `c.execute()`-metodilla:"
   ],
   "metadata": {
    "collapsed": false
   }
  },
  {
   "cell_type": "code",
   "execution_count": 13,
   "outputs": [
    {
     "ename": "OperationalError",
     "evalue": "no such table: kaupungit",
     "output_type": "error",
     "traceback": [
      "\u001B[0;31m---------------------------------------------------------------------------\u001B[0m",
      "\u001B[0;31mOperationalError\u001B[0m                          Traceback (most recent call last)",
      "\u001B[0;32m<ipython-input-13-a31c3a62db6b>\u001B[0m in \u001B[0;36m<module>\u001B[0;34m\u001B[0m\n\u001B[0;32m----> 1\u001B[0;31m \u001B[0mc\u001B[0m\u001B[0;34m.\u001B[0m\u001B[0mexecute\u001B[0m\u001B[0;34m(\u001B[0m\u001B[0;34m\"\"\"SELECT * FROM kaupungit LIMIT 10\"\"\"\u001B[0m\u001B[0;34m)\u001B[0m\u001B[0;34m\u001B[0m\u001B[0m\n\u001B[0m",
      "\u001B[0;31mOperationalError\u001B[0m: no such table: kaupungit"
     ]
    }
   ],
   "source": [
    "c.execute(\"\"\"SELECT * FROM kaupungit LIMIT 10\"\"\")"
   ],
   "metadata": {
    "collapsed": false,
    "pycharm": {
     "name": "#%%\n"
    }
   }
  },
  {
   "cell_type": "markdown",
   "source": [
    "Saat komennon palauttaman ensimmäisen tietueen muuttujaan `item` seuraavasti"
   ],
   "metadata": {
    "collapsed": false
   }
  },
  {
   "cell_type": "code",
   "execution_count": null,
   "outputs": [],
   "source": [
    "item = c.fetchone()"
   ],
   "metadata": {
    "collapsed": false,
    "pycharm": {
     "name": "#%%\n"
    }
   }
  },
  {
   "cell_type": "markdown",
   "source": [
    "Saat kaikki komennon palauttamat tietueet talteen komennolla"
   ],
   "metadata": {
    "collapsed": false
   }
  },
  {
   "cell_type": "code",
   "execution_count": null,
   "outputs": [],
   "source": [
    "list = c.fetchall()  #palauttaa kaikki c.excecute()-komennon palauttamat tietueet listana\n"
   ],
   "metadata": {
    "collapsed": false,
    "pycharm": {
     "name": "#%%\n"
    }
   }
  },
  {
   "cell_type": "markdown",
   "source": [
    "Harjoitus: Kokeile tulostaa listasta `list` kaupungit ja niiden populaatiot.\n",
    "Laske yhteen ja tulosta myös kymmenen ensimmäisen kaupungin populaatio. (2353589)."
   ],
   "metadata": {
    "collapsed": false
   }
  },
  {
   "cell_type": "code",
   "execution_count": null,
   "outputs": [],
   "source": [],
   "metadata": {
    "collapsed": false,
    "pycharm": {
     "name": "#%%\n"
    }
   }
  },
  {
   "cell_type": "markdown",
   "source": [
    "Komentoja on helppo formatoida, jolloin osa komennon parametreista voidaan määritellä muuttujissa.\n",
    "Kysymysmerkit korvataan annetulla listalla muuttujia samassa järjestyksessä."
   ],
   "metadata": {
    "collapsed": false
   }
  },
  {
   "cell_type": "code",
   "execution_count": null,
   "outputs": [],
   "source": [
    "nimi = \"Kauniainen\"\n",
    "alue = \"Southern Finland\"\n",
    "valtio = \"FINLAND\"\n",
    "populaatio = 9960\n",
    "lat = 60.21\n",
    "lon = 24.66\n",
    "c.execute(\"\"\"INSERT INTO kaupungit(nimi, alue, valtio, populaatio, lat, lon)\n",
    "                 VALUES(?,?,?,?,?,?)\"\"\",\n",
    "                 [nimi, alue, valtio, populaatio, lat, lon])"
   ],
   "metadata": {
    "collapsed": false,
    "pycharm": {
     "name": "#%%\n"
    }
   }
  },
  {
   "cell_type": "markdown",
   "source": [
    "Jos tietokantaan tehdään muutoksia (`UPDATE`, `INSERT`, `DELETE`), ne täytyy vielä kommitoida. Lisäksi\n",
    "on hyvä tapa aina sulkea tietokanta lopuksi. Päivitykset on hyvä tehdä `try`-lohkossa, jonka\n",
    "päätteeksi tietokanta suljetaan."
   ],
   "metadata": {
    "collapsed": false
   }
  },
  {
   "cell_type": "code",
   "execution_count": null,
   "outputs": [],
   "source": [
    "\n",
    "    try:\n",
    "        # Päivitetään tiedot\n",
    "        c.execute(\"UPDATE kaupungit SET populaatio = ? WHERE nimi = ?\", [635181, \"Helsinki\"])\n",
    "        # Tallennetaan tehdyt muutokset tietokantaan\n",
    "        conn.commit()\n",
    "\n",
    "    finally:\n",
    "        conn.close()"
   ],
   "metadata": {
    "collapsed": false,
    "pycharm": {
     "name": "#%%\n"
    }
   }
  },
  {
   "cell_type": "markdown",
   "source": [
    "Kokeile avata tietokanta uudelleen ja tarkista tallentuiko Helsingin\n",
    "päivitetty asukasluku?"
   ],
   "metadata": {
    "collapsed": false
   }
  },
  {
   "cell_type": "markdown",
   "source": [
    "### Vihjeitä\n",
    "\n",
    "Jos seuraavissa tehtävissä konsoliin tulostuu virheilmoitus, jossa kerrotaan, että tietokantaa tai jotain taulua ei löydy,"
   ],
   "metadata": {
    "collapsed": false,
    "pycharm": {
     "name": "#%% md\n"
    }
   }
  },
  {
   "cell_type": "markdown",
   "source": [
    "```Python\n",
    "    Traceback (most recent call last):\n",
    "\n",
    "        File \"kaupunkihaku.py\", line 56, in <module>\n",
    "            main()\n",
    "        File \"kaupunkihaku.py\", line 38, in main\n",
    "            queryresult = find_city_by_name(inputstring, tietokanta)\n",
    "\n",
    "        File \"kaupunkihaku.py\", line 14, in find_city_by_name c.execute(sqlitecommand, [city_name])\n",
    "\n",
    "    sqlite3.OperationalError: no such table: kaupungit```"
   ],
   "metadata": {
    "collapsed": false
   }
  },
  {
   "cell_type": "markdown",
   "source": [
    "kannattaa antaa `main()`-funktion `tietokanta`-muuttujaan tiedostopolku, jossa tietokanta sijaitsee.\n",
    "Näin tietokantaa ei tarvitse kopioida tehtäväkohtaisiin alihakemistoihin."
   ],
   "metadata": {
    "collapsed": false
   }
  },
  {
   "cell_type": "markdown",
   "source": [
    "```Python\n",
    "    tietokanta = '../kaupungit.db'```"
   ],
   "metadata": {
    "collapsed": false
   }
  },
  {
   "cell_type": "markdown",
   "source": [
    "Huom! Tietokanta luodaan automaattisesti, jos sitä ei löydy. Tietokanta on tällöin tyhjä (0 tavua), joten vaikka näyttäisi siltä, että tietokanta on oikeassa paikassa, se ei toimi.\n",
    "\n",
    "    ~/teht1$ ls -al\n",
    "    total 24\n",
    "    drwxr-xr-x 1 jovyan jovyan 4096 Dec  9 15:09 .\n",
    "    drwxr-xr-x 1 jovyan jovyan 4096 Dec  9 15:08 ..\n",
    "    -rw-r--r-- 1 jovyan root      0 Dec  9 14:34 kaupungit.db\n",
    "    -rw-r--r-- 1 jovyan jovyan 1242 Dec  9 14:29 kaupunkihaku.py\n",
    "    -rw-r--r-- 1 jovyan jovyan 4345 Dec  9 14:29 test_kaupunkihaku.py\n",
    "    ~/teht1$"
   ],
   "metadata": {
    "collapsed": false
   }
  },
  {
   "cell_type": "markdown",
   "source": [
    "## Tehtävä 1: Kaupunkihaku"
   ],
   "metadata": {
    "collapsed": false
   }
  },
  {
   "cell_type": "markdown",
   "source": [
    "Täydennä Python-ohjelmaa `kaupunkihaku.py`, joka etsii tietokannasta nimen perusteella kaupungin ja tulostaa sen nimen, alueen, valtion, asukasmäärän sekä koordinaatit. Lue olemassa oleva koodi ja sen kommentointi ennen kuin alat kirjoittaa ratkaisua."
   ],
   "metadata": {
    "collapsed": false
   }
  },
  {
   "cell_type": "markdown",
   "source": [
    "Huomaa, että kaupungin nimellä hakiessa voi tulla useita tuloksia.\n",
    "Tällöin halutaan se kaupunki, jossa on eniten asukkaita.\n",
    "Helpoin tapa valita väkimäärän perusteella on lisätä hakukomentoon\n",
    "`ORDER BY populaatio DESC` eli järjestä laskevasti väkimäärän mukaan.\n",
    "Tällöin suurin kaupunki on listassa ensimmäinen."
   ],
   "metadata": {
    "collapsed": false
   }
  },
  {
   "cell_type": "markdown",
   "source": [
    "## Tehtävä 2: Tietojen päivittäminen"
   ],
   "metadata": {
    "collapsed": false
   }
  },
  {
   "cell_type": "markdown",
   "source": [
    "Ennen seuraavan tehtävän aloittamista kannattaa tutkia tehtäväpaketin mukana tulleita tiedostoja. Mitä merkistöä esimerkiksi tekstitiedosto kaupungit.txt käyttää? Ongelmien välttämiseksi tiedoston avaamisen yhteyteen on syytä lisätä tieto käytetystä merkistöstä. Python 3:ssa se onnistuu lisäämällä määre encoding esimerkiksi seuraavasti"
   ],
   "metadata": {
    "collapsed": false
   }
  },
  {
   "cell_type": "markdown",
   "source": [
    "```Python\n",
    "    f = open(filename, 'r', encoding='utf-8')```"
   ],
   "metadata": {
    "collapsed": false,
    "pycharm": {
     "name": "#%% md\n"
    }
   }
  },
  {
   "cell_type": "markdown",
   "source": [
    "Tehtäväpaketin mukana tulee tiedosto `suomen_suurimpien_kuntien_asukasluvut.txt`,\n",
    "jossa on listattuna Suomen suurimpien kuntien asukaslukuja. Tehtävänäsi on tiedostoa hyödyntämällä päivittää kaupunkien asukasluvut. Jos tiedostossa olevaa kaupunkia ei löydy tietokannasta, ohita kyseinen kaupunki. Älä kuitenkaan luo uutta kaupunkia tietokantaan."
   ],
   "metadata": {
    "collapsed": false
   }
  },
  {
   "cell_type": "markdown",
   "source": [
    "## Tehtävä 3: Kahden kaupungin etäisyys"
   ],
   "metadata": {
    "collapsed": false
   }
  },
  {
   "cell_type": "markdown",
   "source": [
    "Tee Python-ohjelma, joka etsii kaksi kaupunkia tietokannasta nimen perusteella ja laskee niiden välisen etäisyyden.\n",
    "Voit käyttää apunasi edellä tehtyä kaupunkihakua.\n",
    "Huomioi, että samannimisistä kaupungeista halutaan se, jolla on suurin asukasluku."
   ],
   "metadata": {
    "collapsed": false
   }
  },
  {
   "cell_type": "markdown",
   "source": [
    "Vihje. Etäisyys koordinaattien välillä kannattaa laskea isoympyrän kulman avulla.\n",
    "Pisteiden `(lon1,lat1)` ja `(lon2,lat2)` väliselle etäisyydelle saadaan seuraavat yhtälöt,\n",
    "jos Maapallon säde on `R`. Muista pohtia, oletko käyttämässä radiaaneja vai asteita.\n",
    "Käytä ratkaisussasi math-kirjaston funktioita, testiohjelma ei lataa esim. numpyä.\n",
    "kaavat etäisyyden laskemiseen isoympyrän avulla\n",
    "\n",
    "   Kulma isoympyrällä:\n",
    "\n",
    "   $\\alpha = \\arccos(\\sin(lat1) * \\sin(lat2) + \\cos(lat1) * cos(lat2) * cos(lon2-lon1))$\n",
    "\n",
    "   Etäisyys isoympyrällä:\n",
    "\n",
    "   $b = \\alpha * R$"
   ],
   "metadata": {
    "collapsed": false
   }
  },
  {
   "cell_type": "markdown",
   "source": [
    "Miten voin testata tehtävien toimivuutta?\n",
    "\n",
    "- Etsi SQLite DB Browserilla joku kaupunki tietokannasta ja tutki löytääkö ohjelma sen.\n",
    "- Tietojen päivittämisen jälkeen tutki SQLite DB Browserilla ovatko tiedot päivittyneet tietokantaan.\n",
    "- Laske esimerkiksi laskimella oikea tulos ja vertaa sitä ohjelmasi palauttamaan tulokseen."
   ],
   "metadata": {
    "collapsed": false
   }
  }
 ],
 "metadata": {
  "kernelspec": {
   "display_name": "Python 3",
   "language": "python",
   "name": "python3"
  },
  "language_info": {
   "codemirror_mode": {
    "name": "ipython",
    "version": 3
   },
   "file_extension": ".py",
   "mimetype": "text/x-python",
   "name": "python",
   "nbconvert_exporter": "python",
   "pygments_lexer": "ipython3",
   "version": "3.7.3"
  }
 },
 "nbformat": 4,
 "nbformat_minor": 2
}